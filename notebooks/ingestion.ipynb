{
 "cells": [
  {
   "cell_type": "markdown",
   "metadata": {},
   "source": [
    "## Deputados\n"
   ]
  },
  {
   "cell_type": "code",
   "execution_count": null,
   "metadata": {},
   "outputs": [],
   "source": [
    "import requests\n",
    "\n",
    "def fazer_requisicao(url, parametros=None, returnar_df=False):\n",
    "\n",
    "    resposta = requests.get(url, params=parametros)\n",
    "\n",
    "    if resposta.status_code == 200:\n",
    "        dados = resposta.json()\n",
    "        if returnar_df and 'dados' in dados and type(dados['dados']) == list: \n",
    "            return pd.DataFrame(dados['dados'])\n",
    "        else:\n",
    "           return dados\n",
    "        \n",
    "    else:\n",
    "        print(f\"Erro {resposta.status_code}: {resposta.text}\")\n",
    "        \n",
    "    return None\n",
    "\n",
    "def obter_deputados():\n",
    "    url = 'https://dadosabertos.camara.leg.br/api/v2/deputados'\n",
    "    parametros = {'ordem': 'ASC', 'ordenarPor': 'nome'}\n",
    "    return fazer_requisicao(url, parametros)\n",
    "\n",
    "def obter_detalhe_deputado(id):\n",
    "    url = f'https://dadosabertos.camara.leg.br/api/v2/deputados/{id}'\n",
    "    return fazer_requisicao(url)\n",
    "\n",
    "def obter_despesas_deputado(id):\n",
    "    url = f'https://dadosabertos.camara.leg.br/api/v2/deputados/{id}/despesas'\n",
    "    return fazer_requisicao(url)\n",
    "\n",
    "def obter_discursos_deputado(id):\n",
    "    url = f'https://dadosabertos.camara.leg.br/api/v2/deputados/{id}/discursos'\n",
    "    return fazer_requisicao(url)\n",
    "\n",
    "def obter_eventos_deputado(id):\n",
    "    url = f'https://dadosabertos.camara.leg.br/api/v2/deputados/{id}/eventos'\n",
    "    return fazer_requisicao(url)\n",
    "\n",
    "def obter_frentes_deputado(id):\n",
    "    url = f'https://dadosabertos.camara.leg.br/api/v2/deputados/{id}/frentes'\n",
    "    return fazer_requisicao(url)\n",
    "\n",
    "def obter_historico_deputado(id):\n",
    "    url = f'https://dadosabertos.camara.leg.br/api/v2/deputados/{id}/historico'\n",
    "    return fazer_requisicao(url)\n",
    "\n",
    "def obter_mandatos_externos_deputado(id):\n",
    "    url = f'https://dadosabertos.camara.leg.br/api/v2/deputados/{id}/mandatos-externos'\n",
    "    return fazer_requisicao(url)\n",
    "\n",
    "def obter_ocupacoes_deputado(id):\n",
    "    url = f'https://dadosabertos.camara.leg.br/api/v2/deputados/{id}/ocupacoes'\n",
    "    return fazer_requisicao(url)\n",
    "\n",
    "def obter_profissoes_deputado(id):\n",
    "    url = f'https://dadosabertos.camara.leg.br/api/v2/deputados/{id}/profissoes'\n",
    "    return fazer_requisicao(url)\n",
    "\n",
    "def obter_lideres_legislaturas(id):\n",
    "    url = f'https://dadosabertos.camara.leg.br/api/v2/legislaturas/{id}/lideres'\n",
    "    return fazer_requisicao(url)\n",
    "\n",
    "def obter_mesas_legislaturas(id):\n",
    "    url = f'https://dadosabertos.camara.leg.br/api/v2/legislaturas/{id}/mesa'\n",
    "    return fazer_requisicao(url)\n",
    "\n",
    "def obter_cod_situacoes_deputados():\n",
    "    url = 'https://dadosabertos.camara.leg.br/api/v2/referencias/deputados/codSituacao'\n",
    "    return fazer_requisicao(url)\n",
    "\n",
    "def obter_situacoes_deputados():\n",
    "    url = 'https://dadosabertos.camara.leg.br/api/v2/referencias/situacoesDeputado'\n",
    "    return fazer_requisicao(url)\n"
   ]
  },
  {
   "cell_type": "code",
   "execution_count": null,
   "metadata": {},
   "outputs": [],
   "source": [
    "# Testando as funções\n",
    "deputados = obter_deputados()\n",
    "print(\"Deputados:\", deputados)\n",
    "\n",
    "primeiro_deputado_id = 204536\n",
    "\n",
    "detalhe_deputado = obter_detalhe_deputado(primeiro_deputado_id)\n",
    "print(\"Detalhe do Deputado:\", detalhe_deputado)\n",
    "\n",
    "despesas_deputado = obter_despesas_deputado(primeiro_deputado_id)\n",
    "print(\"Despesas do Deputado:\", despesas_deputado)\n",
    "\n",
    "discursos_deputado = obter_discursos_deputado(primeiro_deputado_id)\n",
    "print(\"Discursos do Deputado:\", discursos_deputado)\n",
    "\n",
    "eventos_deputado = obter_eventos_deputado(primeiro_deputado_id)\n",
    "print(\"Eventos do Deputado:\", eventos_deputado)\n",
    "\n",
    "frentes_deputado = obter_frentes_deputado(primeiro_deputado_id)\n",
    "print(\"Frentes do Deputado:\", frentes_deputado)\n",
    "\n",
    "historico_deputado = obter_historico_deputado(primeiro_deputado_id)\n",
    "print(\"Histórico do Deputado:\", historico_deputado)\n",
    "\n",
    "mandatos_externos_deputado = obter_mandatos_externos_deputado(primeiro_deputado_id)\n",
    "print(\"Mandatos Externos do Deputado:\", mandatos_externos_deputado)\n",
    "\n",
    "ocupacoes_deputado = obter_ocupacoes_deputado(primeiro_deputado_id)\n",
    "print(\"Ocupações do Deputado:\", ocupacoes_deputado)\n",
    "\n",
    "profissoes_deputado = obter_profissoes_deputado(primeiro_deputado_id)\n",
    "print(\"Profissões do Deputado:\", profissoes_deputado)\n",
    "\n",
    "# Testando funções relacionadas às legislaturas\n",
    "lideres_legislaturas = obter_lideres_legislaturas(56)  # Exemplo com a 56ª legislatura\n",
    "print(\"Líderes da Legislatura:\", lideres_legislaturas)\n",
    "\n",
    "mesas_legislaturas = obter_mesas_legislaturas(56)  # Exemplo com a 56ª legislatura\n",
    "print(\"Mesas da Legislatura:\", mesas_legislaturas)\n",
    "\n",
    "# Testando funções de referêncis\n",
    "cod_situacoes_deputados = obter_cod_situacoes_deputados()\n",
    "print(\"Códigos de Situações dos Deputados:\", cod_situacoes_deputados)\n",
    "\n",
    "situacoes_deputados = obter_situacoes_deputados()\n",
    "print(\"Situações dos Deputados:\", situacoes_deputados)"
   ]
  },
  {
   "cell_type": "markdown",
   "metadata": {},
   "source": [
    "## Votações"
   ]
  },
  {
   "cell_type": "code",
   "execution_count": 39,
   "metadata": {},
   "outputs": [],
   "source": [
    "def obter_votacoes(dataInicio=None, dataFim=None):\n",
    "    \"\"\"\n",
    "    Retorna uma lista de informações básicas sobre as votações ocorridas em eventos dos diversos órgãos da Câmara.\n",
    "\n",
    "    Parâmetros:\n",
    "        - dataInicio (str): Data de início no formato 'YYYY-MM-DD'.\n",
    "        - dataFim (str): Data de fim no formato 'YYYY-MM-DD'.\n",
    "\n",
    "    Retorna:\n",
    "        - dict: Dados das votações ou None se a requisição falhar.\n",
    "    \"\"\"\n",
    "    url = 'https://dadosabertos.camara.leg.br/api/v2/votacoes'\n",
    "    parametros = {}\n",
    "\n",
    "    if dataInicio:\n",
    "        parametros['dataInicio'] = dataInicio\n",
    "    if dataFim:\n",
    "        parametros['dataFim'] = dataFim\n",
    "\n",
    "def obter_detalhe_votacoes(id):\n",
    "    url = f'https://dadosabertos.camara.leg.br/api/v2/votacoes/{id}'\n",
    "    return fazer_requisicao(url)\n",
    "\n",
    "def obter_orientacoes_votacoes(id):\n",
    "    url = f'https://dadosabertos.camara.leg.br/api/v2/votacoes/{id}/orientacoes'\n",
    "    return fazer_requisicao(url)\n",
    "\n",
    "def obter_votacoes_votos(id):\n",
    "    url = f'https://dadosabertos.camara.leg.br/api/v2/votacoes/{id}/votos'\n",
    "    return fazer_requisicao(url)"
   ]
  },
  {
   "cell_type": "code",
   "execution_count": null,
   "metadata": {
    "vscode": {
     "languageId": "groovy"
    }
   },
   "outputs": [
    {
     "name": "stdout",
     "output_type": "stream",
     "text": [
      "Votações: None\n",
      "Nenhuma votação encontrada para o período especificado.\n"
     ]
    }
   ],
   "source": [
    "# Testando funções relacionadas às votações\n",
    "votacoes = obter_votacoes(dataInicio=\"2024-01-01\", dataFim=\"2023-02-01\")\n",
    "print(\"Votações:\", votacoes)\n",
    "\n",
    "if votacoes and 'dados' in votacoes and len(votacoes['dados']) > 0:\n",
    "    primeira_votacao_id = votacoes['dados'][0]['id']\n",
    "\n",
    "    detalhe_votacao = obter_detalhe_votacoes(primeira_votacao_id)\n",
    "    print(\"Detalhe da Votação:\", detalhe_votacao)\n",
    "\n",
    "    orientacoes_votacao = obter_orientacoes_votacoes(primeira_votacao_id)\n",
    "    print(\"Orientações da Votação:\", orientacoes_votacao)\n",
    "\n",
    "    votos_votacao = obter_votacoes_votos(primeira_votacao_id)\n",
    "    print(\"Votos da Votação:\", votos_votacao)\n",
    "else:\n",
    "    print(\"Nenhuma votação encontrada no período especificado.\")"
   ]
  },
  {
   "cell_type": "code",
   "execution_count": 42,
   "metadata": {},
   "outputs": [
    {
     "name": "stdout",
     "output_type": "stream",
     "text": [
      "Votações: None\n"
     ]
    }
   ],
   "source": [
    "votacoes = obter_votacoes(dataInicio=\"2025-01-01\", dataFim=\"2025-02-01\")\n",
    "print(\"Votações:\", votacoes)"
   ]
  }
 ],
 "metadata": {
  "kernelspec": {
   "display_name": ".venv",
   "language": "python",
   "name": "python3"
  },
  "language_info": {
   "codemirror_mode": {
    "name": "ipython",
    "version": 3
   },
   "file_extension": ".py",
   "mimetype": "text/x-python",
   "name": "python",
   "nbconvert_exporter": "python",
   "pygments_lexer": "ipython3",
   "version": "3.12.5"
  }
 },
 "nbformat": 4,
 "nbformat_minor": 2
}
